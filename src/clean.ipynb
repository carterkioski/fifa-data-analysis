{
 "cells": [
  {
   "cell_type": "code",
   "execution_count": 1,
   "id": "1f84db54-e993-46bb-9392-ecf95b062b48",
   "metadata": {},
   "outputs": [],
   "source": [
    "import pandas as pd"
   ]
  },
  {
   "cell_type": "code",
   "execution_count": 6,
   "id": "7d3491e1-11ef-42ee-bbd5-14ef0914f061",
   "metadata": {},
   "outputs": [],
   "source": [
    "all_players_df = pd.read_csv('../data/fifa21_raw_data_v2.csv',low_memory=False)\n",
    "prem_stats_df = pd.read_csv('../data/EPL_20_21.csv',low_memory=False)"
   ]
  },
  {
   "cell_type": "code",
   "execution_count": 12,
   "id": "6fefb5a1-5150-464d-ac7a-36d6dadd2d26",
   "metadata": {},
   "outputs": [
    {
     "data": {
      "text/plain": [
       "['Chelsea',\n",
       " 'Manchester City',\n",
       " 'Manchester United',\n",
       " 'Liverpool FC',\n",
       " 'Leicester City',\n",
       " 'West Ham United',\n",
       " 'Tottenham Hotspur',\n",
       " 'Arsenal',\n",
       " 'Leeds United',\n",
       " 'Everton',\n",
       " 'Aston Villa',\n",
       " 'Newcastle United',\n",
       " 'Wolverhampton Wanderers',\n",
       " 'Crystal Palace',\n",
       " 'Southampton',\n",
       " 'Brighton',\n",
       " 'Burnley',\n",
       " 'Fulham',\n",
       " 'West Bromwich Albion',\n",
       " 'Sheffield United']"
      ]
     },
     "execution_count": 12,
     "metadata": {},
     "output_type": "execute_result"
    }
   ],
   "source": [
    "prem_clubs = list(prem_stats_df['Club'].unique())"
   ]
  },
  {
   "cell_type": "code",
   "execution_count": null,
   "id": "6d2d6483-55d7-4ac8-851c-aad4ed95030e",
   "metadata": {},
   "outputs": [],
   "source": [
    "#TODO:\n",
    "# Get rid of most columns\n",
    "# Trip Club column - narrow down to only teams from prem league data set\n",
    "#\n",
    "#"
   ]
  },
  {
   "cell_type": "code",
   "execution_count": null,
   "id": "561eccc5-b2a7-4c62-a5ce-efc95a9c98b8",
   "metadata": {},
   "outputs": [],
   "source": []
  },
  {
   "cell_type": "code",
   "execution_count": null,
   "id": "10373e25-c6f2-4888-aa55-09fb2153329c",
   "metadata": {},
   "outputs": [],
   "source": []
  }
 ],
 "metadata": {
  "kernelspec": {
   "display_name": "Python 3",
   "language": "python",
   "name": "python3"
  },
  "language_info": {
   "codemirror_mode": {
    "name": "ipython",
    "version": 3
   },
   "file_extension": ".py",
   "mimetype": "text/x-python",
   "name": "python",
   "nbconvert_exporter": "python",
   "pygments_lexer": "ipython3",
   "version": "3.8.8"
  }
 },
 "nbformat": 4,
 "nbformat_minor": 5
}
