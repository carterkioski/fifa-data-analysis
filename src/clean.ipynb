{
 "cells": [
  {
   "cell_type": "code",
   "execution_count": null,
   "id": "1f84db54-e993-46bb-9392-ecf95b062b48",
   "metadata": {},
   "outputs": [],
   "source": [
    "import pandas as pd"
   ]
  },
  {
   "cell_type": "code",
   "execution_count": null,
   "id": "cdc769e4-e483-4048-85c9-5cd3fb098a92",
   "metadata": {},
   "outputs": [],
   "source": [
    "#Defining Functions to use later\n",
    "def height_to_cm(h):\n",
    "    '''\n",
    "    Takes in height in feet and inches and returns in centimeters \n",
    "    ex. 6\"1' returns 185.42\n",
    "    '''\n",
    "    return int(h[:h.index('\\'')])*30.48 + int(h[h.index('\\'')+1:h.index('\"')])*2.54\n",
    "def weight_to_kg(w):\n",
    "    '''\n",
    "    Takes in weight in pounds and returns kilograms\n",
    "    ex. 190lbs returns 90.7185\n",
    "    '''\n",
    "    return int(w[:w.index('l')]) * 0.453592"
   ]
  },
  {
   "cell_type": "code",
   "execution_count": null,
   "id": "7d3491e1-11ef-42ee-bbd5-14ef0914f061",
   "metadata": {},
   "outputs": [],
   "source": [
    "all_players_df = pd.read_csv('../data/fifa21_raw_data_v2.csv',low_memory=False)\n",
    "prem_stats_df = pd.read_csv('../data/EPL_20_21.csv',low_memory=False)"
   ]
  },
  {
   "cell_type": "code",
   "execution_count": null,
   "id": "82c01c2a-2de1-4f6d-8ee9-45401e67eecf",
   "metadata": {},
   "outputs": [],
   "source": [
    "# Keep only needed columns\n",
    "all_players_df = all_players_df[['LongName', 'Nationality', 'Age', '↓OVA', 'Club', 'Height', 'Weight', 'Preferred Foot', 'Best Position',\\\n",
    "                                 'Attacking', 'Crossing', 'Finishing', 'Heading Accuracy', 'Short Passing', 'Volleys', 'Skill', 'Dribbling',\\\n",
    "                                 'Curve', 'FK Accuracy', 'Long Passing', 'Ball Control', 'Movement', 'Acceleration', 'Sprint Speed', 'Agility',\\\n",
    "                                 'Reactions', 'Balance', 'Power', 'Shot Power', 'Jumping', 'Stamina', 'Strength', 'Long Shots', 'Mentality',\\\n",
    "                                 'Aggression', 'Interceptions', 'Positioning', 'Vision', 'Penalties', 'Composure', 'Defending', 'Marking',\\\n",
    "                                 'Standing Tackle', 'Sliding Tackle', 'Goalkeeping', 'GK Diving', 'GK Handling', 'GK Kicking', 'GK Positioning',\\\n",
    "                                 'GK Reflexes', 'Total Stats', 'Base Stats','W/F', 'SM', 'A/W', 'D/W', 'PAC', 'SHO', 'PAS', 'DRI', 'DEF']]"
   ]
  },
  {
   "cell_type": "code",
   "execution_count": null,
   "id": "6d2d6483-55d7-4ac8-851c-aad4ed95030e",
   "metadata": {},
   "outputs": [],
   "source": [
    "#Rename columns\n",
    "all_players_df = all_players_df.rename(columns={'LongName': 'Name', '↓OVA': 'Overall', 'Best Position': 'Position','Height': 'Height(cm)',\\\n",
    "                                                'Weight': 'Weight(km)', 'W/F': 'Weak Foot (Out of 5)' , 'SM': 'Skill Moves (Out of 5)',\\\n",
    "                                                'A/W': 'Attacking Work Rate', 'D/W': 'Defensive Work Rate', 'PAC': 'Pace', 'SHO': 'Shooting',\\\n",
    "                                                'PAS': 'Passing', 'DRI': 'Dribbling', 'DEF': 'Defense'})"
   ]
  },
  {
   "cell_type": "code",
   "execution_count": null,
   "id": "e5f3a330-7073-4af7-98ca-098ace750619",
   "metadata": {},
   "outputs": [],
   "source": [
    "#Strips new lines from Club titles\n",
    "all_players_df['Club'] = all_players_df['Club'].apply(lambda x: x.strip())\n",
    "\n",
    "#Removes stars from the ratings\n",
    "all_players_df['Weak Foot (Out of 5)'] = all_players_df['Weak Foot (Out of 5)'].apply(lambda x: x[0])\n",
    "all_players_df['Skill Moves (Out of 5)'] = all_players_df['Skill Moves (Out of 5)'].apply(lambda x: x[0])\n",
    "\n",
    "#Convert height and weight to cm and kg respectively if not in those units already \n",
    "all_players_df['Height(cm)'] = all_players_df['Height(cm)'].apply(lambda x: x[:x.index('c')] if ('c' in x) else height_to_cm(x))\n",
    "all_players_df['Weight(km)'] = all_players_df['Weight(km)'].apply(lambda x: x[:x.index('k')] if ('k' in x) else weight_to_kg(x))\n",
    "all_players_df.head()"
   ]
  },
  {
   "cell_type": "code",
   "execution_count": null,
   "id": "46b3b08f-d61c-42e6-98b3-65da9526a4de",
   "metadata": {},
   "outputs": [],
   "source": [
    "#Clean Premier League Stats Data\n",
    "prem_stats_df = prem_stats_df.drop(['xG', 'xA'], axis=1)\n",
    "prem_stats_df = prem_stats_df.rename(columns={'Perc_Passes_Completed': 'Pass Completion %', 'Passes_Attempted': 'Pass Attempts',\\\n",
    "                                              'Penalty_Goals': 'Penalties Scored', 'Penalty_Attempted': 'Penalty Attempts',\\\n",
    "                                              'Yellow_Cards': 'Yellow Cards', 'Red_Cards': 'Red Cards'})"
   ]
  },
  {
   "cell_type": "code",
   "execution_count": null,
   "id": "3a93d24f-2dfc-470f-a6a0-a9f18d5e23eb",
   "metadata": {},
   "outputs": [],
   "source": [
    "#Take first position listed if the player has more than one\n",
    "prem_stats_df['Position'] = prem_stats_df['Position'].apply(lambda x: x.split(',')[0])"
   ]
  },
  {
   "cell_type": "code",
   "execution_count": null,
   "id": "7c545af3-fcca-4bf8-bc64-69093f0cd4eb",
   "metadata": {},
   "outputs": [],
   "source": []
  },
  {
   "cell_type": "code",
   "execution_count": null,
   "id": "93902e70-9c56-463b-9932-d1fbed355b5f",
   "metadata": {},
   "outputs": [],
   "source": [
    "#Time to get FIFA stats of Premier League players to compare to how they actually did"
   ]
  },
  {
   "cell_type": "code",
   "execution_count": null,
   "id": "379137ab-674f-4e2d-8d33-7ef281742e2d",
   "metadata": {},
   "outputs": [],
   "source": [
    "#Get list of 2020/2021 Premier League clubs \n",
    "prem_clubs = list(prem_stats_df['Club'].unique())"
   ]
  },
  {
   "cell_type": "code",
   "execution_count": null,
   "id": "f431eeb1-7a7c-4890-b65d-9e703ff1f2ba",
   "metadata": {},
   "outputs": [],
   "source": [
    "#Gets DataFrame of only Premier League players\n",
    "prem_players_df = all_players_df[all_players_df['Club'].isin(prem_clubs)]"
   ]
  },
  {
   "cell_type": "code",
   "execution_count": null,
   "id": "9add420b-b943-4366-b483-45cafd260eb7",
   "metadata": {},
   "outputs": [],
   "source": []
  },
  {
   "cell_type": "code",
   "execution_count": null,
   "id": "45391f3a-931a-4ec4-9a9b-8e36250d57a2",
   "metadata": {},
   "outputs": [],
   "source": []
  },
  {
   "cell_type": "code",
   "execution_count": null,
   "id": "f2eec194-b12f-4bb1-b75d-6f191beca020",
   "metadata": {},
   "outputs": [],
   "source": []
  },
  {
   "cell_type": "code",
   "execution_count": null,
   "id": "f31821b4-6c58-4b25-86f0-1e8e9750d4af",
   "metadata": {},
   "outputs": [],
   "source": []
  },
  {
   "cell_type": "code",
   "execution_count": null,
   "id": "47a54094-a25a-49f7-b33e-ad39984475a0",
   "metadata": {},
   "outputs": [],
   "source": []
  },
  {
   "cell_type": "code",
   "execution_count": null,
   "id": "47e99320-21c3-497a-a8a3-229fd3859009",
   "metadata": {},
   "outputs": [],
   "source": []
  },
  {
   "cell_type": "code",
   "execution_count": null,
   "id": "457a5541-186b-4b0c-8aab-b4a55758240a",
   "metadata": {},
   "outputs": [],
   "source": [
    "#KNN for players similar to eachother"
   ]
  }
 ],
 "metadata": {
  "kernelspec": {
   "display_name": "Python 3",
   "language": "python",
   "name": "python3"
  },
  "language_info": {
   "codemirror_mode": {
    "name": "ipython",
    "version": 3
   },
   "file_extension": ".py",
   "mimetype": "text/x-python",
   "name": "python",
   "nbconvert_exporter": "python",
   "pygments_lexer": "ipython3",
   "version": "3.8.8"
  }
 },
 "nbformat": 4,
 "nbformat_minor": 5
}
